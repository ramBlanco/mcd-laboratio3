{
 "cells": [
  {
   "cell_type": "code",
   "execution_count": 1,
   "metadata": {},
   "outputs": [],
   "source": [
    "import pandas as pd\n",
    "import numpy as np\n",
    "import os"
   ]
  },
  {
   "cell_type": "code",
   "execution_count": 60,
   "metadata": {},
   "outputs": [
    {
     "data": {
      "text/plain": [
       "Index(['Unnamed: 0', 'periodo', 'customer_id', 'product_id',\n",
       "       'cust_request_qty', 'cust_request_tn', 'cat1', 'cat2', 'cat3', 'brand',\n",
       "       'sku_size'],\n",
       "      dtype='object')"
      ]
     },
     "execution_count": 60,
     "metadata": {},
     "output_type": "execute_result"
    }
   ],
   "source": [
    "data = pd.read_csv(\"../tbl_products.txt\")\n",
    "data['periodo'] = pd.to_datetime(data['periodo'], format='%Y%m')\n",
    "data = data[data[\"periodo\"] <= \"2019-02\"]\n",
    "# data = data[data[\"product_id\"] == 20001]\n",
    "data.columns"
   ]
  },
  {
   "cell_type": "code",
   "execution_count": 61,
   "metadata": {},
   "outputs": [],
   "source": [
    "data = data.groupby(by=['product_id', 'periodo', 'cat1'], group_keys=False).sum(\"cust_request_tn\")"
   ]
  },
  {
   "cell_type": "code",
   "execution_count": 62,
   "metadata": {},
   "outputs": [],
   "source": [
    "data.reset_index(inplace=True)"
   ]
  },
  {
   "cell_type": "code",
   "execution_count": 63,
   "metadata": {},
   "outputs": [],
   "source": [
    "for lag in range(10):\n",
    "    newLag = lag + 1\n",
    "    data['lag' + str(newLag)] = data['cust_request_tn'].shift(newLag).apply(lambda x: 0 if pd.isna(x) else x)\n",
    "\n",
    "# lag 1-15 (list)\n",
    "# media \n",
    "# tendencias 2-7 (meses)\n",
    "# ventas 1 anio atras\n",
    "# ventas 10 meses atras\n",
    "# estacionalidad (modulo del mes entre 100)\n"
   ]
  },
  {
   "cell_type": "code",
   "execution_count": 69,
   "metadata": {},
   "outputs": [],
   "source": [
    "data.to_csv(\n",
    "    path_or_buf=\"products_with_lag.txt\",\n",
    "    columns=[\n",
    "        \"product_id\", \n",
    "        \"periodo\",\n",
    "        \"cat1\",\n",
    "        \"cust_request_tn\",\n",
    "        \"lag1\",\n",
    "        \"lag2\",\n",
    "        \"lag3\",\n",
    "        \"lag4\",\n",
    "        \"lag5\",\n",
    "        \"lag6\",\n",
    "        \"lag7\",\n",
    "        \"lag8\",\n",
    "        \"lag9\",\n",
    "        \"lag10\",\n",
    "    ]\n",
    ")"
   ]
  }
 ],
 "metadata": {
  "kernelspec": {
   "display_name": ".venv",
   "language": "python",
   "name": "python3"
  },
  "language_info": {
   "codemirror_mode": {
    "name": "ipython",
    "version": 3
   },
   "file_extension": ".py",
   "mimetype": "text/x-python",
   "name": "python",
   "nbconvert_exporter": "python",
   "pygments_lexer": "ipython3",
   "version": "3.10.12"
  },
  "orig_nbformat": 4
 },
 "nbformat": 4,
 "nbformat_minor": 2
}
