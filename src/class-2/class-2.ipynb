{
 "cells": [
  {
   "cell_type": "code",
   "execution_count": 1,
   "metadata": {},
   "outputs": [],
   "source": [
    "import pandas\n",
    "import gzip\n",
    "import numpy as np\n",
    "from statsmodels.tsa.arima_model import ARIMA\n",
    "from statsmodels.tsa.stattools import adfuller\n",
    "import matplotlib.pyplot as plt"
   ]
  },
  {
   "cell_type": "code",
   "execution_count": 2,
   "metadata": {},
   "outputs": [],
   "source": [
    "tb_productos_02_datasets = pandas.read_csv(\"../datasets/class-2/tb_productos_02.txt\")\n",
    "# tb_sellout_02_datasets = pandas.read_csv(\"../datasets/class-2/tb_sellout_02.txt.gz\", compression='gzip', header=0, sep='\\t', quotechar='\"')\n",
    "# tb_stocks_02_datasets = pandas.read_csv(\"../datasets/class-2/tb_stocks_02.txt.gz\", compression='gzip', header=0, sep='\\t', quotechar='\"')"
   ]
  },
  {
   "cell_type": "code",
   "execution_count": 3,
   "metadata": {},
   "outputs": [],
   "source": [
    "def read_tbl_products():   \n",
    "  columns = []\n",
    "  data = {}\n",
    "  clean_data = []\n",
    "  with gzip.open(\"../datasets/class-1/tb_sellout_01.txt.gz\", \"rt\") as f:\n",
    "    for i, line in enumerate(f):\n",
    "      clean_data.append(line)\n",
    "      if i <= 4:\n",
    "        columns.append(str(line))\n",
    "\n",
    "    for index, column in enumerate(columns):\n",
    "          data[column] = [line_clean.strip() for line_clean in clean_data[6 + index::6]]\n",
    "  \n",
    "  return data"
   ]
  },
  {
   "cell_type": "code",
   "execution_count": 4,
   "metadata": {},
   "outputs": [],
   "source": [
    "tb_sellout_01_datasets = pandas.DataFrame(read_tbl_products())"
   ]
  },
  {
   "cell_type": "code",
   "execution_count": 5,
   "metadata": {},
   "outputs": [],
   "source": [
    "tb_sellout_01_datasets.columns = ['periodo', 'customer_id', 'product_id', 'cust_request_qty', 'cust_request_tn']"
   ]
  },
  {
   "cell_type": "code",
   "execution_count": 6,
   "metadata": {},
   "outputs": [
    {
     "data": {
      "text/plain": [
       "periodo             object\n",
       "customer_id         object\n",
       "product_id           int64\n",
       "cust_request_qty    object\n",
       "cust_request_tn     object\n",
       "dtype: object"
      ]
     },
     "execution_count": 6,
     "metadata": {},
     "output_type": "execute_result"
    }
   ],
   "source": [
    "tb_sellout_01_datasets[\"product_id\"] = pandas.to_numeric(tb_sellout_01_datasets[\"product_id\"])\n",
    "tb_sellout_01_datasets.dtypes"
   ]
  },
  {
   "cell_type": "code",
   "execution_count": 7,
   "metadata": {},
   "outputs": [
    {
     "data": {
      "text/plain": [
       "cat1          object\n",
       "cat2          object\n",
       "cat3          object\n",
       "brand         object\n",
       "sku_size       int64\n",
       "product_id     int64\n",
       "dtype: object"
      ]
     },
     "execution_count": 7,
     "metadata": {},
     "output_type": "execute_result"
    }
   ],
   "source": [
    "tb_productos_02_datasets.dtypes"
   ]
  },
  {
   "cell_type": "code",
   "execution_count": 8,
   "metadata": {},
   "outputs": [],
   "source": [
    "tbl_products = pandas.merge(tb_sellout_01_datasets, tb_productos_02_datasets, on=[\"product_id\", \"product_id\"])"
   ]
  },
  {
   "cell_type": "code",
   "execution_count": 11,
   "metadata": {},
   "outputs": [],
   "source": [
    "data = tbl_products\n",
    "data['periodo'] = pandas.to_datetime(data['periodo'], format='%Y%m')\n",
    "data.to_csv(\"tbl_products.txt\")\n"
   ]
  }
 ],
 "metadata": {
  "kernelspec": {
   "display_name": "Python 3",
   "language": "python",
   "name": "python3"
  },
  "language_info": {
   "codemirror_mode": {
    "name": "ipython",
    "version": 3
   },
   "file_extension": ".py",
   "mimetype": "text/x-python",
   "name": "python",
   "nbconvert_exporter": "python",
   "pygments_lexer": "ipython3",
   "version": "3.10.12"
  },
  "orig_nbformat": 4
 },
 "nbformat": 4,
 "nbformat_minor": 2
}
