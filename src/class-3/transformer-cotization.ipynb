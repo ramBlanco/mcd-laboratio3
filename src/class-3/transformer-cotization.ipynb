{
 "cells": [
  {
   "cell_type": "code",
   "execution_count": 14,
   "metadata": {},
   "outputs": [],
   "source": [
    "import json\n",
    "import pandas"
   ]
  },
  {
   "cell_type": "code",
   "execution_count": null,
   "metadata": {},
   "outputs": [],
   "source": [
    "cotizations_file = open(\"../../datasets/class-3/usd-to-pesos.json\")\n",
    "\n",
    "cotizations_dict = json.load(cotizations_file)"
   ]
  },
  {
   "cell_type": "code",
   "execution_count": 11,
   "metadata": {},
   "outputs": [],
   "source": [
    "cotizations_list = []\n",
    "\n",
    "for key in cotizations_dict:\n",
    "    cotization = cotizations_dict[key]\n",
    "    \n",
    "    date_split = str(key).split(\"-\")\n",
    "    date_split[2] = \"20\" + date_split[2]\n",
    "\n",
    "    item = dict()\n",
    "    item[\"date\"] = date_split[2] + \"-\" + date_split[1] + \"-\" + date_split[0]\n",
    "\n",
    "    for key in cotization:\n",
    "        item[key] = cotization[key][\"venta\"]\n",
    "\n",
    "    cotizations_list.append(item)\n",
    "    # cotizations_list.append({\n",
    "    #     \"date\": date_split[0] + date_split[1] + date_split[2],\n",
    "    #     \"oficial\": cotization[\"oficial\"][\"venta\"],\n",
    "    #     \"mayorista\": cotization[\"mayorista\"][\"venta\"],\n",
    "    #     \"informal\": cotization[\"informal\"][\"venta\"],\n",
    "    #     \"informal\": cotization[\"informal\"][\"venta\"] if cotization[\"informal\"] is not None else 0,\n",
    "    #     \"informal\": cotization[\"informal\"][\"venta\"] if cotization[\"informal\"] is not None else 0,\n",
    "    #     \"informal\": cotization[\"informal\"][\"venta\"] if cotization[\"informal\"] is not None else 0,\n",
    "    #     \"informal\": cotization[\"informal\"][\"venta\"] if cotization[\"informal\"] is not None else 0,\n",
    "    # })\n"
   ]
  },
  {
   "cell_type": "code",
   "execution_count": 17,
   "metadata": {},
   "outputs": [],
   "source": [
    "df_cotizations = pandas.DataFrame(cotizations_list)\n",
    "df_cotizations = df_cotizations.fillna(0)\n",
    "df_cotizations.to_csv(\"../../datasets/class-3/cotizations.csv\")"
   ]
  }
 ],
 "metadata": {
  "kernelspec": {
   "display_name": ".venv",
   "language": "python",
   "name": "python3"
  },
  "language_info": {
   "codemirror_mode": {
    "name": "ipython",
    "version": 3
   },
   "file_extension": ".py",
   "mimetype": "text/x-python",
   "name": "python",
   "nbconvert_exporter": "python",
   "pygments_lexer": "ipython3",
   "version": "3.10.12"
  }
 },
 "nbformat": 4,
 "nbformat_minor": 2
}
